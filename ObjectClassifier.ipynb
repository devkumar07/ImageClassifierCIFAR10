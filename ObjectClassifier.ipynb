{
 "cells": [
  {
   "cell_type": "code",
   "execution_count": 27,
   "metadata": {},
   "outputs": [],
   "source": [
    "import pandas as pd\n",
    "import numpy as np \n",
    "import tensorflow\n",
    "from tensorflow.keras.layers import Conv2D, MaxPooling2D, Dense, Dropout, Flatten\n",
    "from tensorflow.keras.models import Sequential\n",
    "from tensorflow.keras.datasets import cifar10\n",
    "\n",
    "(x_train,y_train), (x_test,y_test) = cifar10.load_data()\n",
    "\n",
    "x_train=x_train.astype('float32')\n",
    "x_test=x_test.astype('float32')\n",
    "\n",
    "x_train = x_train/255\n",
    "x_test = x_test/255\n",
    "y_train = tensorflow.keras.utils.to_categorical(y_train, 10)\n",
    "y_test = tensorflow.keras.utils.to_categorical(y_test, 10)"
   ]
  },
  {
   "cell_type": "code",
   "execution_count": 38,
   "metadata": {},
   "outputs": [],
   "source": [
    "def create_model():\n",
    "    model = Sequential()\n",
    "    model.add(Conv2D(32, input_shape = (32,32,3), kernel_size = (3,3), activation = 'relu'))\n",
    "    model.add(Conv2D(64, kernel_size = (3,3), activation = 'relu'))\n",
    "    model.add(MaxPooling2D(pool_size=(2, 2), padding='same'))\n",
    "    model.add(Dropout(0.25))\n",
    "    model.add(Flatten())\n",
    "    model.add(Dense(128, activation = 'relu'))\n",
    "    model.add(Dropout(0.50))\n",
    "    model.add(Dense(10, activation = 'softmax'))\n",
    "    model.compile(loss = 'categorical_crossentropy', optimizer = 'adam', metrics = ['accuracy'])\n",
    "    return model"
   ]
  },
  {
   "cell_type": "code",
   "execution_count": 39,
   "metadata": {},
   "outputs": [
    {
     "name": "stdout",
     "output_type": "stream",
     "text": [
      "Train on 50000 samples, validate on 10000 samples\n",
      "Epoch 1/10\n",
      "50000/50000 - 109s - loss: 1.5386 - accuracy: 0.4448 - val_loss: 1.1448 - val_accuracy: 0.6032\n",
      "Epoch 2/10\n",
      "50000/50000 - 107s - loss: 1.1993 - accuracy: 0.5754 - val_loss: 1.0136 - val_accuracy: 0.6443\n",
      "Epoch 3/10\n",
      "50000/50000 - 107s - loss: 1.0778 - accuracy: 0.6206 - val_loss: 0.9492 - val_accuracy: 0.6720\n",
      "Epoch 4/10\n",
      "50000/50000 - 107s - loss: 0.9986 - accuracy: 0.6470 - val_loss: 0.9112 - val_accuracy: 0.6836\n",
      "Epoch 5/10\n",
      "50000/50000 - 107s - loss: 0.9346 - accuracy: 0.6704 - val_loss: 0.9092 - val_accuracy: 0.6829\n",
      "Epoch 6/10\n",
      "50000/50000 - 107s - loss: 0.8779 - accuracy: 0.6893 - val_loss: 0.8908 - val_accuracy: 0.6871\n",
      "Epoch 7/10\n",
      "50000/50000 - 107s - loss: 0.8231 - accuracy: 0.7068 - val_loss: 0.8604 - val_accuracy: 0.7045\n",
      "Epoch 8/10\n",
      "50000/50000 - 109s - loss: 0.7910 - accuracy: 0.7195 - val_loss: 0.8611 - val_accuracy: 0.7045\n",
      "Epoch 9/10\n",
      "50000/50000 - 112s - loss: 0.7503 - accuracy: 0.7311 - val_loss: 0.8766 - val_accuracy: 0.6996\n",
      "Epoch 10/10\n",
      "50000/50000 - 112s - loss: 0.7179 - accuracy: 0.7441 - val_loss: 0.8503 - val_accuracy: 0.7128\n"
     ]
    }
   ],
   "source": [
    "model = create_model()\n",
    "clf = model.fit(x_train, y_train, batch_size = 32, epochs = 10, verbose = 2, validation_data = (x_test,y_test))"
   ]
  },
  {
   "cell_type": "code",
   "execution_count": 46,
   "metadata": {},
   "outputs": [
    {
     "name": "stdout",
     "output_type": "stream",
     "text": [
      "5 dog\n"
     ]
    }
   ],
   "source": [
    "from PIL import Image\n",
    "results={\n",
    "   0:'aeroplane',\n",
    "   1:'automobile',\n",
    "   2:'bird',\n",
    "   3:'cat',\n",
    "   4:'deer',\n",
    "   5:'dog',\n",
    "   6:'frog',\n",
    "   7:'horse',\n",
    "   8:'ship',\n",
    "   9:'truck'\n",
    "}\n",
    "im=Image.open(\"dog.jpg\")\n",
    "# the input image is required to be in the shape of dataset, i.e (32,32,3)\n",
    " \n",
    "im=im.resize((32,32))\n",
    "im=np.expand_dims(im,axis=0)\n",
    "im=np.array(im)\n",
    "im=im.astype('float32')\n",
    "pred=model.predict_classes([im])[0]\n",
    "print(pred,results[pred])"
   ]
  },
  {
   "cell_type": "code",
   "execution_count": null,
   "metadata": {},
   "outputs": [],
   "source": []
  }
 ],
 "metadata": {
  "kernelspec": {
   "display_name": "Python 3",
   "language": "python",
   "name": "python3"
  },
  "language_info": {
   "codemirror_mode": {
    "name": "ipython",
    "version": 3
   },
   "file_extension": ".py",
   "mimetype": "text/x-python",
   "name": "python",
   "nbconvert_exporter": "python",
   "pygments_lexer": "ipython3",
   "version": "3.7.6"
  }
 },
 "nbformat": 4,
 "nbformat_minor": 4
}
